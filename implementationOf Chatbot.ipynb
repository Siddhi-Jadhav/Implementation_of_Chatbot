{
 "cells": [
  {
   "cell_type": "code",
   "execution_count": null,
   "metadata": {},
   "outputs": [],
   "source": [
    "pip install nltk scikit-learn streamlit"
   ]
  },
  {
   "cell_type": "code",
   "execution_count": null,
   "metadata": {},
   "outputs": [],
   "source": [
    "# Importing necessary libraries\n",
    "import nltk\n",
    "import random\n",
    "import os\n",
    "import ssl\n",
    "import streamlit as st\n",
    "from sklearn.feature_extraction.text import TfidfVectorizer\n",
    "from sklearn.linear_model import LogisticRegression"
   ]
  },
  {
   "cell_type": "code",
   "execution_count": null,
   "metadata": {},
   "outputs": [],
   "source": [
    "ssl._create_default_https_context = ssl._create_unverified_context\n",
    "nltk.data.path.append(os.path.abspath('nltk_data'))\n",
    "nltk.download('punkt')"
   ]
  },
  {
   "cell_type": "code",
   "execution_count": null,
   "metadata": {},
   "outputs": [],
   "source": [
    "intents = [\n",
    "    {\n",
    "        'tag':'greeting',\n",
    "        'patterns':['Hi', 'Hello', 'Hey', 'Whats up', 'How are you'],\n",
    "        'responses':['Hi there', 'Hello', 'Hey', 'Nothing much', 'Im fine, thank you']\n",
    "    },\n",
    "    {\n",
    "        'tag':'goodbye',\n",
    "        'patterns':['Bye', 'See you later', 'Goodbye', 'Take care'],\n",
    "        'responses':['Goodbye', 'See you later', 'Take care']\n",
    "    },\n",
    "    {\n",
    "        \"tag\": \"thanks\",\n",
    "        \"patterns\": [\"Thank you\", \"Thanks\", \"Thanks a lot\", \"I appreciate it\"],\n",
    "        \"responses\": [\"You're welcome\", \"No problem\", \"Glad I could help\"]\n",
    "    },\n",
    "    {\n",
    "        \"tag\": \"about\",\n",
    "        \"patterns\": [\"What can you do\", \"Who are you\", \"What are you\", \"What is your purpose\"],\n",
    "        \"responses\": [\"I am a chatbot\", \"My purpose is to assist you\", \"I can answer questions and provide assistance\"]\n",
    "    },\n",
    "    {\n",
    "        \"tag\": \"help\",\n",
    "        \"patterns\": [\"Help\", \"I need help\", \"Can you help me\", \"What should I do\"],\n",
    "        \"responses\": [\"Sure, what do you need help with?\", \"I'm here to help. What's the problem?\", \"How can I assist you?\"]\n",
    "    },\n",
    "    {\n",
    "        \"tag\": \"age\",\n",
    "        \"patterns\": [\"How old are you\", \"What's your age\"],\n",
    "        \"responses\": [\"I don't have an age. I'm a chatbot.\", \"I was just born in the digital world.\", \"Age is just a number for me.\"]\n",
    "    },\n",
    "    {\n",
    "        \"tag\": \"weather\",\n",
    "        \"patterns\": [\"What's the weather like\", \"How's the weather today\"],\n",
    "        \"responses\": [\"I'm sorry, I cannot provide real-time weather information.\", \"You can check the weather on a weather app or website.\"]\n",
    "    },\n",
    "    {\n",
    "        \"tag\": \"budget\",\n",
    "        \"patterns\": [\"How can I make a budget\", \"What's a good budgeting strategy\", \"How do I create a budget\"],\n",
    "        \"responses\": [\"To make a budget, start by tracking your income and expenses. Then, allocate your income towards essential expenses like rent, food, and bills. Next, allocate some of your income towards savings and debt repayment. Finally, allocate the remainder of your income towards discretionary expenses like entertainment and hobbies.\", \"A good budgeting strategy is to use the 50/30/20 rule. This means allocating 50% of your income towards essential expenses, 30% towards discretionary expenses, and 20% towards savings and debt repayment.\", \"To create a budget, start by setting financial goals for yourself. Then, track your income and expenses for a few months to get a sense of where your money is going. Next, create a budget by allocating your income towards essential expenses, savings and debt repayment, and discretionary expenses.\"]\n",
    "    },\n",
    "    {\n",
    "        \"tag\": \"credit_score\",\n",
    "        \"patterns\": [\"What is a credit score\", \"How do I check my credit score\", \"How can I improve my credit score\"],\n",
    "        \"responses\": [\"A credit score is a number that represents your creditworthiness. It is based on your credit history and is used by lenders to determine whether or not to lend you money. The higher your credit score, the more likely you are to be approved for credit.\", \"You can check your credit score for free on several websites such as Credit Karma and Credit Sesame.\"]\n",
    "    },\n",
    "    {\n",
    "        \"tag\":\" Appointment Scheduling Request\",\n",
    "        \"patterns\": [ \"I'd like to schedule an appointment.\", \"Can I book an appointment with a doctor?\", \"I need to make an appointment for a consultation.\", \"I want to book a meeting with a team member.\", \"Please schedule an appointment for me.\"],\n",
    "        \"responses\":[\"I can help you with that! What date and time works best for you?\", \"Sure! Let me know your preferred time, and I’ll get it scheduled.\"]\n",
    "    },\n",
    "    {\n",
    "        \"tag\": \" Availability Check\",\n",
    "        \"patterns\":[\"What times are available for an appointment?\" ,\"Are there any open slots for tomorrow?\" ,\"What are the available times for a consultation?\" ,\"Can I book an appointment for next week?\" ],\n",
    "        \"responses\":[\"I can check the availability for you. What day are you looking for?\" ,\"Please give me a moment to check the available slots for you.\"]\n",
    "    },  \n",
    "    {\n",
    "        \"tag\": \"Confirm Appointment Details\" ,\n",
    "        \"patterns\": [\"I want to confirm my appointment.\" ,\"Can you confirm the details of my meeting?\" ,\"Has my appointment been scheduled?\"] ,\n",
    "        \"responses\": [\"Your appointment is scheduled for [date and time]. Is this correct?\" ,\"Your meeting is confirmed for [date and time]. Let me know if you need to make any changes.\"]\n",
    "    }, \n",
    "    {\n",
    "        \"tag\":\" Appointment Rescheduling\"  ,\n",
    "        \"patterns\": [\"I need to reschedule my appointment.\" ,\"Can I change the time of my meeting?\" ,\"I want to move my appointment to another day.\"] ,\n",
    "        \"responses\": [\"Let me help you with that! Please tell me when you'd like to reschedule.\" ,\"I can assist with rescheduling. What date and time would work better for you?\"]\n",
    "    }, \n",
    "    {\n",
    "        \"tag\": \" Appointment Cancellation\" ,\n",
    "        \"patterns\": [\"I need to cancel my appointment.\" ,\"Can I cancel my meeting?\" ,\"I want to cancel the appointment I booked.\"] ,\n",
    "        \"responses\": [\"I’m sorry to hear that. Would you like to cancel your appointment for [date]?\" ,\"Your appointment is canceled. Let me know if you need to reschedule.\"]\n",
    "    }, \n",
    "    {\n",
    "        \"tag\":\" Appointment Confirmation Request\"  ,\n",
    "        \"patterns\": [\"Can you confirm my booking?\" ,\"Did my appointment get confirmed?\" ,\"Was my meeting successfully scheduled?\"] ,\n",
    "        \"responses\": [\"Yes, your appointment has been confirmed for [date and time].\" ,\"Your appointment has been successfully scheduled. You’ll get a reminder closer to the time.\"]\n",
    "    } \n",
    "   \n",
    "]"
   ]
  }
 ],
 "metadata": {
  "kernelspec": {
   "display_name": "Python 3",
   "language": "python",
   "name": "python3"
  },
  "language_info": {
   "codemirror_mode": {
    "name": "ipython",
    "version": 3
   },
   "file_extension": ".py",
   "mimetype": "text/x-python",
   "name": "python",
   "nbconvert_exporter": "python",
   "pygments_lexer": "ipython3",
   "version": "3.12.4"
  }
 },
 "nbformat": 4,
 "nbformat_minor": 2
}
